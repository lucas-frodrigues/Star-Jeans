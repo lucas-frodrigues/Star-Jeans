{
 "cells": [
  {
   "cell_type": "code",
   "execution_count": 25,
   "source": [
    "import pandas as pd\n",
    "import numpy as np\n",
    "import requests\n",
    "\n",
    "\n",
    "from bs4 import BeautifulSoup"
   ],
   "outputs": [],
   "metadata": {}
  },
  {
   "cell_type": "code",
   "execution_count": 82,
   "source": [
    "url = 'https://www2.hm.com/en_us/men/products/jeans.html'\n",
    "headers = {'User-Agent' : 'Mozilla/5.0 (Macintosh;Intel MacOS X 10_11_5) Apple WebKit/537.36 (KHTML, like Gecko) Chrome/50.0.2661.102 Safari/537,36'}\n",
    "\n",
    "page = requests.get(url, headers=headers)\n",
    "\n",
    "soup = BeautifulSoup(page.text, 'html.parser')\n"
   ],
   "outputs": [],
   "metadata": {}
  },
  {
   "cell_type": "code",
   "execution_count": 7,
   "source": [
    "products = soup.find('ul', class_='products-listing small')"
   ],
   "outputs": [],
   "metadata": {}
  },
  {
   "cell_type": "code",
   "execution_count": 8,
   "source": [
    "#finding products in HTML\n",
    "product_list = products.find_all('article', class_='hm-product-item')\n",
    "\n",
    "# product_id\n",
    "product_id = [p.get('data-articlecode') for p in product_list]\n",
    "\n",
    "#product_category\n",
    "product_category = [p.get('data-category') for p in product_list]\n",
    "\n",
    "#product_name\n",
    "product_list = products.find_all('a', class_= 'link')\n",
    "product_name = [p.get_text() for p in product_list]\n",
    "\n",
    "#product_price\n",
    "product_list = products.find_all('span',class_ = 'price regular')\n",
    "product_price = [p.get_text() for p in product_list]"
   ],
   "outputs": [],
   "metadata": {}
  },
  {
   "cell_type": "code",
   "execution_count": 20,
   "source": [
    "#create the DataFrame\n",
    "data = pd.DataFrame([product_id,product_category,product_name,product_price]).T\n",
    "data.columns = ['product_id','product_category','product_name','product_price']"
   ],
   "outputs": [],
   "metadata": {}
  },
  {
   "cell_type": "code",
   "execution_count": 43,
   "source": [
    "#identify how many product are\n",
    "total_item = soup.find_all('h2',class_ = 'load-more-heading')[0].get('data-total')\n",
    "#page_number = np.round(int(total_item)/36)\n",
    "page_number"
   ],
   "outputs": [
    {
     "output_type": "execute_result",
     "data": {
      "text/plain": [
       "3.0"
      ]
     },
     "metadata": {},
     "execution_count": 43
    }
   ],
   "metadata": {}
  },
  {
   "cell_type": "code",
   "execution_count": 44,
   "source": [
    "url02 = url + '?page-size=' + str(int(page_number*36))"
   ],
   "outputs": [],
   "metadata": {}
  },
  {
   "cell_type": "code",
   "execution_count": 119,
   "source": [
    "url = 'https://www2.hm.com/en_us/productpage.0636207011.html'\n",
    "headers = {'User-Agent' : 'Mozilla/5.0 (Macintosh;Intel MacOS X 10_11_5) Apple WebKit/537.36 (KHTML, like Gecko) Chrome/50.0.2661.102 Safari/537,36'}\n",
    "\n",
    "page = requests.get(url, headers=headers)\n",
    "\n",
    "soup = BeautifulSoup(page.text, 'html.parser')\n"
   ],
   "outputs": [],
   "metadata": {}
  },
  {
   "cell_type": "code",
   "execution_count": 114,
   "source": [
    "#color_name\n",
    "product_list = soup.find_all('a',class_='filter-option miniature')\n",
    "\n",
    "color_name = [p.get('data-color') for p in product_list]\n",
    "product_id = [p.get('data-articlecode') for p in product_list]\n",
    "\n",
    "df_color = pd.DataFrame(product_id,color_name).reset_index()\n",
    "df_color.columns = ['color_name','product_id']\n",
    "\n",
    "#generate style id + color id\n",
    "df_color['style_id'] = df_color['product_id'].apply(lambda x: x[:-3])\n",
    "df_color['color_id'] = df_color['product_id'].apply(lambda x: x[-3:])"
   ],
   "outputs": [],
   "metadata": {}
  },
  {
   "cell_type": "code",
   "execution_count": 115,
   "source": [
    "#composition\n",
    "product_composition_list = soup.find_all('div', class_ = 'pdp-description-list-item')\n",
    "product_composition = [list(filter(None, p.get_text().split('\\n'))) for p in product_composition_list]\n",
    "\n",
    "# rename dataframe\n",
    "df_composition = pd.DataFrame(product_composition).T\n",
    "df_composition.columns = df_composition.iloc[0]\n",
    "# delete first row\n",
    "df_composition = df_composition.iloc[1:].fillna(method='ffill')\n",
    "\n",
    "#generate style id + color id\n",
    "df_composition['style_id'] = df_composition['Art. No.'].apply(lambda x: x[:-3])\n",
    "df_composition['color_id'] = df_composition['Art. No.'].apply(lambda x: x[-3:])"
   ],
   "outputs": [],
   "metadata": {}
  },
  {
   "cell_type": "code",
   "execution_count": 120,
   "source": [
    "# Table with information about color and composition\n",
    "data_sku = pd.merge(df_color,df_composition[['style_id','Fit','Composition']],how='left', on='style_id')"
   ],
   "outputs": [],
   "metadata": {}
  },
  {
   "cell_type": "code",
   "execution_count": null,
   "source": [],
   "outputs": [],
   "metadata": {}
  }
 ],
 "metadata": {
  "orig_nbformat": 4,
  "language_info": {
   "name": "python",
   "version": "3.8.0",
   "mimetype": "text/x-python",
   "codemirror_mode": {
    "name": "ipython",
    "version": 3
   },
   "pygments_lexer": "ipython3",
   "nbconvert_exporter": "python",
   "file_extension": ".py"
  },
  "kernelspec": {
   "name": "python3",
   "display_name": "Python 3.8.0 64-bit ('DsAoDev': pyenv)"
  },
  "interpreter": {
   "hash": "65051e7020118609809eec7739067b0aacb369905999c6c73f22acff0af24c1a"
  }
 },
 "nbformat": 4,
 "nbformat_minor": 2
}