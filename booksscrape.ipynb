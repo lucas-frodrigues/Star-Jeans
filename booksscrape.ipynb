{
 "cells": [
  {
   "cell_type": "code",
   "execution_count": 123,
   "source": [
    "import re\n",
    "import pandas as pd\n",
    "import datetime\n",
    "import requests\n",
    "from bs4 import BeautifulSoup\n"
   ],
   "outputs": [],
   "metadata": {}
  },
  {
   "cell_type": "code",
   "execution_count": 124,
   "source": [
    "url  = 'https://books.toscrape.com/catalogue/category/books/classics_6/index.html'\n",
    "url1 = 'https://books.toscrape.com/catalogue/category/books/science-fiction_16/index.html'\n",
    "url2 = 'https://books.toscrape.com/catalogue/category/books/humor_30/index.html'\n",
    "url3 = 'https://books.toscrape.com/catalogue/category/books/business_35/index.html'\n",
    "\n",
    "headers = {'User-Agente': 'Mozilla/5.0 (Macintosh; Intel Max OS X 10_11_5) AppleWebKit/537.36 (KHTML, like Gecko) Chrome/50.0.2661.102 Safari/537.36'}"
   ],
   "outputs": [],
   "metadata": {}
  },
  {
   "cell_type": "code",
   "execution_count": 125,
   "source": [
    "classicurl = requests.get(url, headers = headers )\n",
    "classicurl.text\n",
    "science_fictionurl = requests.get(url1, headers = headers )\n",
    "science_fictionurl.text\n",
    "humorurl = requests.get(url2, headers = headers )\n",
    "humorurl.text\n",
    "businessurl = requests.get(url3, headers = headers )\n",
    "businessurl.text;"
   ],
   "outputs": [],
   "metadata": {}
  },
  {
   "cell_type": "code",
   "execution_count": 270,
   "source": [
    "headers = {'User-Agente': 'Mozilla/5.0 (Macintosh; Intel Max OS X 10_11_5) AppleWebKit/537.36 (KHTML, like Gecko) Chrome/50.0.2661.102 Safari/537.36'}\n",
    "\n",
    "def soup (url):\n",
    "    url = requests.get(url, headers = headers)\n",
    "    url.text\n",
    "    soup = BeautifulSoup(url.text, 'html.parser')\n",
    "    books = soup.find('ol', class_ = 'row')\n",
    "    return books"
   ],
   "outputs": [],
   "metadata": {}
  },
  {
   "cell_type": "code",
   "execution_count": 283,
   "source": [
    "# Name\n",
    "def name (books):\n",
    "    books_list = books.find_all('a')\n",
    "    books_name = [p.get('title') for p in books_list]\n",
    "    books_name = list(filter(None,books_name))\n",
    "    books_name = pd.DataFrame(books_name, columns = ['name'])\n",
    "    return books_name"
   ],
   "outputs": [],
   "metadata": {}
  },
  {
   "cell_type": "code",
   "execution_count": 282,
   "source": [
    "# Price\n",
    "def price (books):\n",
    "    books_price = books.find_all('p', class_ = 'price_color')\n",
    "    books_price = [p.get_text() for p in books_price]\n",
    "    books_price = pd.DataFrame(books_price,columns=['price'])\n",
    "    return books_price"
   ],
   "outputs": [],
   "metadata": {}
  },
  {
   "cell_type": "code",
   "execution_count": 250,
   "source": [
    "# Rating\n",
    "def rating (books):\n",
    "    books_list = books.find_all('p',class_ = 'star-rating')\n",
    "    books_rating = [p.get('class') for p in books_list]\n",
    "    books_rating = pd.DataFrame(books_rating, columns= ['','rating'])\n",
    "    books_rating = books_rating.drop(columns = '')\n",
    "    books_rating['rating'] = books_rating['rating'].apply(lambda x: '1' if x == 'One' else '2' if x == 'Two' else '3' if x == 'Three' else '4' if x == 'Four' else 'Five')\n",
    "    return books_rating"
   ],
   "outputs": [],
   "metadata": {}
  },
  {
   "cell_type": "code",
   "execution_count": 259,
   "source": [
    "# URL\n",
    "def url_stock (books):\n",
    "    books_url = books.find_all('a')\n",
    "    books_url = [p.get('href') for p in books_url]\n",
    "    books_url = list(set(books_url))\n",
    "    books_url = [p.replace('../../../','/') for p in books_url]\n",
    "    books_url = pd.DataFrame(books_url, columns = ['url'])\n",
    "    \n",
    "    return books_url"
   ],
   "outputs": [],
   "metadata": {}
  },
  {
   "cell_type": "code",
   "execution_count": 301,
   "source": [
    "# Stock\n",
    "def stock (books_url):\n",
    "    stock_number_list = []\n",
    "    stock_name_list = []\n",
    "    for i in range(len(books_url)):\n",
    "        url = 'https://books.toscrape.com/catalogue/' + books_url.loc[i, 'url']\n",
    "        headers = {'User-Agente': 'Mozilla/5.0 (Macintosh; Intel Max OS X 10_11_5) AppleWebKit/537.36 (KHTML, like Gecko) Chrome/50.0.2661.102 Safari/537.36'}\n",
    "        stock_number = requests.get(url, headers = headers )\n",
    "        stock_number.text\n",
    "        soup = BeautifulSoup(stock_number.text, 'html.parser')\n",
    "        stock_number = soup.find_all('p', class_ = 'instock availability')\n",
    "        stock_number = [p.get_text() for p in stock_number][0]\n",
    "        stock_number_list.append(stock_number)\n",
    "        stock_number_list = [p.replace('\\n\\n    \\n        ','') for p in stock_number_list]\n",
    "        stock_number_list = [p.replace('\\n    \\n','') for p in stock_number_list]\n",
    "    \n",
    "        stock_name = soup.find_all('h1')\n",
    "        stock_name = [p.get_text() for p in stock_name]\n",
    "        stock_name_list.append(stock_name)\n",
    "        \n",
    "        stock_name = pd.DataFrame(stock_name_list)\n",
    "        stock_name.columns = ['name']    \n",
    "        stock_number = pd.DataFrame(stock_number_list)\n",
    "        stock_number.columns = ['stock']\n",
    "    \n",
    "        return stock_name, stock_number\n",
    "    "
   ],
   "outputs": [],
   "metadata": {}
  },
  {
   "cell_type": "code",
   "execution_count": 298,
   "source": [
    "df_partial1 = pd.concat([books_name,books_price,books_rating],axis=1)\n",
    "df_partial2 = pd.concat([stock_name,stock_number],axis = 1)\n",
    "df_final = pd.merge(df_partial1,df_partial2,how = 'left' , on = 'name')"
   ],
   "outputs": [
    {
     "output_type": "error",
     "ename": "NameError",
     "evalue": "name 'books_rating' is not defined",
     "traceback": [
      "\u001b[0;31m---------------------------------------------------------------------------\u001b[0m",
      "\u001b[0;31mNameError\u001b[0m                                 Traceback (most recent call last)",
      "\u001b[0;32m/tmp/ipykernel_5111/1728622901.py\u001b[0m in \u001b[0;36m<module>\u001b[0;34m\u001b[0m\n\u001b[0;32m----> 1\u001b[0;31m \u001b[0mdf_partial1\u001b[0m \u001b[0;34m=\u001b[0m \u001b[0mpd\u001b[0m\u001b[0;34m.\u001b[0m\u001b[0mconcat\u001b[0m\u001b[0;34m(\u001b[0m\u001b[0;34m[\u001b[0m\u001b[0mbooks_name\u001b[0m\u001b[0;34m,\u001b[0m\u001b[0mbooks_price\u001b[0m\u001b[0;34m,\u001b[0m\u001b[0mbooks_rating\u001b[0m\u001b[0;34m]\u001b[0m\u001b[0;34m,\u001b[0m\u001b[0maxis\u001b[0m\u001b[0;34m=\u001b[0m\u001b[0;36m1\u001b[0m\u001b[0;34m)\u001b[0m\u001b[0;34m\u001b[0m\u001b[0;34m\u001b[0m\u001b[0m\n\u001b[0m\u001b[1;32m      2\u001b[0m \u001b[0mdf_partial2\u001b[0m \u001b[0;34m=\u001b[0m \u001b[0mpd\u001b[0m\u001b[0;34m.\u001b[0m\u001b[0mconcat\u001b[0m\u001b[0;34m(\u001b[0m\u001b[0;34m[\u001b[0m\u001b[0mstock_name\u001b[0m\u001b[0;34m,\u001b[0m\u001b[0mstock_number\u001b[0m\u001b[0;34m]\u001b[0m\u001b[0;34m,\u001b[0m\u001b[0maxis\u001b[0m \u001b[0;34m=\u001b[0m \u001b[0;36m1\u001b[0m\u001b[0;34m)\u001b[0m\u001b[0;34m\u001b[0m\u001b[0;34m\u001b[0m\u001b[0m\n\u001b[1;32m      3\u001b[0m \u001b[0mdf_final\u001b[0m \u001b[0;34m=\u001b[0m \u001b[0mpd\u001b[0m\u001b[0;34m.\u001b[0m\u001b[0mmerge\u001b[0m\u001b[0;34m(\u001b[0m\u001b[0mdf_partial1\u001b[0m\u001b[0;34m,\u001b[0m\u001b[0mdf_partial2\u001b[0m\u001b[0;34m,\u001b[0m\u001b[0mhow\u001b[0m \u001b[0;34m=\u001b[0m \u001b[0;34m'left'\u001b[0m \u001b[0;34m,\u001b[0m \u001b[0mon\u001b[0m \u001b[0;34m=\u001b[0m \u001b[0;34m'name'\u001b[0m\u001b[0;34m)\u001b[0m\u001b[0;34m\u001b[0m\u001b[0;34m\u001b[0m\u001b[0m\n",
      "\u001b[0;31mNameError\u001b[0m: name 'books_rating' is not defined"
     ]
    }
   ],
   "metadata": {}
  },
  {
   "cell_type": "code",
   "execution_count": null,
   "source": [],
   "outputs": [],
   "metadata": {}
  }
 ],
 "metadata": {
  "orig_nbformat": 4,
  "language_info": {
   "name": "python",
   "version": "3.8.0",
   "mimetype": "text/x-python",
   "codemirror_mode": {
    "name": "ipython",
    "version": 3
   },
   "pygments_lexer": "ipython3",
   "nbconvert_exporter": "python",
   "file_extension": ".py"
  },
  "kernelspec": {
   "name": "python3",
   "display_name": "Python 3.8.0 64-bit ('DsAoDev': pyenv)"
  },
  "interpreter": {
   "hash": "65051e7020118609809eec7739067b0aacb369905999c6c73f22acff0af24c1a"
  }
 },
 "nbformat": 4,
 "nbformat_minor": 2
}